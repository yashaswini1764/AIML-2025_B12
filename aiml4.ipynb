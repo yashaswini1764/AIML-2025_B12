{
  "nbformat": 4,
  "nbformat_minor": 0,
  "metadata": {
    "colab": {
      "provenance": [],
      "authorship_tag": "ABX9TyMKlW0JF9sKFzSkIOQ84+Qq",
      "include_colab_link": true
    },
    "kernelspec": {
      "name": "python3",
      "display_name": "Python 3"
    },
    "language_info": {
      "name": "python"
    }
  },
  "cells": [
    {
      "cell_type": "markdown",
      "metadata": {
        "id": "view-in-github",
        "colab_type": "text"
      },
      "source": [
        "<a href=\"https://colab.research.google.com/github/yashaswini1764/AIML-2025_B12/blob/main/aiml4.ipynb\" target=\"_parent\"><img src=\"https://colab.research.google.com/assets/colab-badge.svg\" alt=\"Open In Colab\"/></a>"
      ]
    },
    {
      "cell_type": "code",
      "execution_count": 2,
      "metadata": {
        "colab": {
          "base_uri": "https://localhost:8080/",
          "height": 106
        },
        "id": "q1Pafc_BEXZv",
        "outputId": "616c30ac-5456-4a72-88f7-9f862ddfc5a9"
      },
      "outputs": [
        {
          "output_type": "error",
          "ename": "SyntaxError",
          "evalue": "invalid syntax (<ipython-input-2-c483a86a35a8>, line 36)",
          "traceback": [
            "\u001b[0;36m  File \u001b[0;32m\"<ipython-input-2-c483a86a35a8>\"\u001b[0;36m, line \u001b[0;32m36\u001b[0m\n\u001b[0;31m    dfs(graph, 'A')def dfs(graph, start_vertex):\u001b[0m\n\u001b[0m                   ^\u001b[0m\n\u001b[0;31mSyntaxError\u001b[0m\u001b[0;31m:\u001b[0m invalid syntax\n"
          ]
        }
      ],
      "source": [
        "def dfs(graph, start_vertex):\n",
        "    # Initialize a stack with the starting vertex\n",
        "    stack = [start_vertex]\n",
        "    # A list to keep track of visited vertices\n",
        "    visited = []\n",
        "\n",
        "    while stack:\n",
        "        # Pop a vertex from the top of the stack\n",
        "        vertex = stack.pop()\n",
        "\n",
        "        if vertex not in visited:\n",
        "            # Print the vertex as it is visited\n",
        "            print(vertex, end=\" \")\n",
        "            # Mark the vertex as visited\n",
        "            visited.append(vertex)\n",
        "\n",
        "            # Add all adjacent vertices that haven't been visited to the stack\n",
        "            # We add them in reverse order so that the leftmost child is processed first\n",
        "            for neighbor in reversed(graph[vertex]):\n",
        "                if neighbor not in visited:\n",
        "                    stack.append(neighbor)\n",
        "\n",
        "# Example adjacency list representation of the graph in the image\n",
        "graph = {\n",
        "    'A': ['B', 'C'],\n",
        "    'B': ['A', 'D', 'E'],\n",
        "    'C': ['A', 'F', 'G'],\n",
        "    'D': ['B'],\n",
        "    'E': ['B', 'H'],\n",
        "    'F': ['C'],\n",
        "    'G': ['C'],\n",
        "    'H': ['E']\n",
        "}\n",
        "\n",
        "# Starting DFS from vertex 'A'\n",
        "dfs(graph, 'A')def dfs(graph, start_vertex):\n",
        "    # Initialize a stack with the starting vertex\n",
        "    stack = [start_vertex]\n",
        "    # A list to keep track of visited vertices\n",
        "    visited = []\n",
        "\n",
        "    while stack:\n",
        "        # Pop a vertex from the top of the stack\n",
        "        vertex = stack.pop()\n",
        "\n",
        "        if vertex not in visited:\n",
        "            # Print the vertex as it is visited\n",
        "            print(vertex, end=\" \")\n",
        "            # Mark the vertex as visited\n",
        "            visited.append(vertex)\n",
        "\n",
        "            # Add all adjacent vertices that haven't been visited to the stack\n",
        "            # We add them in reverse order so that the leftmost child is processed first\n",
        "            for neighbor in reversed(graph[vertex]):\n",
        "                if neighbor not in visited:\n",
        "                    stack.append(neighbor)\n",
        "\n",
        "# Example adjacency list representation of the graph in the image\n",
        "graph = {\n",
        "    'A': ['B', 'C'],\n",
        "    'B': ['A', 'D', 'E'],\n",
        "    'C': ['A', 'F', 'G'],\n",
        "    'D': ['B'],\n",
        "    'E': ['B', 'H'],\n",
        "    'F': ['C'],\n",
        "    'G': ['C'],\n",
        "    'H': ['E']\n",
        "}\n",
        "\n",
        "# Starting DFS from vertex 'A'\n",
        "dfs(graph, 'A')"
      ]
    }
  ]
}