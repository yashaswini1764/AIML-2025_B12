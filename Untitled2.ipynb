{
  "nbformat": 4,
  "nbformat_minor": 0,
  "metadata": {
    "colab": {
      "provenance": [],
      "authorship_tag": "ABX9TyOsIOiaEc8Q1EZrj3CMViZr",
      "include_colab_link": true
    },
    "kernelspec": {
      "name": "python3",
      "display_name": "Python 3"
    },
    "language_info": {
      "name": "python"
    }
  },
  "cells": [
    {
      "cell_type": "markdown",
      "metadata": {
        "id": "view-in-github",
        "colab_type": "text"
      },
      "source": [
        "<a href=\"https://colab.research.google.com/github/yashaswini1764/AIML-2025_B12/blob/main/Untitled2.ipynb\" target=\"_parent\"><img src=\"https://colab.research.google.com/assets/colab-badge.svg\" alt=\"Open In Colab\"/></a>"
      ]
    },
    {
      "cell_type": "code",
      "execution_count": null,
      "metadata": {
        "id": "Hnml1TS8Vew_"
      },
      "outputs": [],
      "source": [
        "from collections import deque\n",
        "\n",
        "def bfs(graph, start_vertex):\n",
        "    # Initialize a queue with the starting vertex\n",
        "    queue = deque([start_vertex])\n",
        "    # A list to keep track of visited vertices\n",
        "    visited = []\n",
        "\n",
        "    while queue:\n",
        "        # Dequeue a vertex from the front of the queue\n",
        "        vertex = queue.popleft()\n",
        "\n",
        "        if vertex not in visited:\n",
        "            # Print the vertex as it is visited\n",
        "            print(vertex, end=\" \")\n",
        "            # Mark the vertex as visited\n",
        "            visited.append(vertex)\n",
        "\n",
        "            # Add all adjacent vertices that haven't been visited to the queue\n",
        "            for neighbor in graph[vertex]:\n",
        "                if neighbor not in visited:\n",
        "                    queue.append(neighbor)\n",
        "\n",
        "# Example adjacency list representation of the graph in the image\n",
        "graph = {\n",
        "    1: [2, 3],\n",
        "    2: [1, 4, 5],\n",
        "    3: [1, 4],\n",
        "    4: [2, 3, 5],\n",
        "    5: [2, 4]\n",
        "}\n",
        "\n",
        "# Starting BFS from vertex 1\n",
        "bfs(graph, 1)"
      ]
    }
  ]
}